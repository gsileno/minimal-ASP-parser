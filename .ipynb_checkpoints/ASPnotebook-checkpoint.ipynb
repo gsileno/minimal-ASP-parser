{
 "cells": [
  {
   "cell_type": "code",
   "execution_count": 3,
   "metadata": {},
   "outputs": [
    {
     "name": "stdout",
     "output_type": "stream",
     "text": [
      "b :- not a.\n",
      "-c :- a.\n",
      "a.\n",
      "\n",
      "Answer sets\n",
      "1: ['a', '-c']\n"
     ]
    }
   ],
   "source": [
    "from ASPLoader import *\n",
    "\n",
    "program = parse_string(\"b :- not a. -c :- a. a.\")\n",
    "answer_sets = program.solve()\n",
    "\n",
    "print(\"Answer sets\")\n",
    "\n",
    "for i in range(len(answer_sets)):\n",
    "    atoms = []\n",
    "    for atom in answer_sets[i]:\n",
    "        atoms.append(str(atom))\n",
    "    print(\"%d: %s\" % (i+1, str(atoms)))"
   ]
  },
  {
   "cell_type": "code",
   "execution_count": null,
   "metadata": {},
   "outputs": [],
   "source": []
  }
 ],
 "metadata": {
  "kernelspec": {
   "display_name": "PyCharm (pycosmos)",
   "language": "python",
   "name": "pycharm-981d4956"
  },
  "language_info": {
   "codemirror_mode": {
    "name": "ipython",
    "version": 3
   },
   "file_extension": ".py",
   "mimetype": "text/x-python",
   "name": "python",
   "nbconvert_exporter": "python",
   "pygments_lexer": "ipython3",
   "version": "3.7.7"
  }
 },
 "nbformat": 4,
 "nbformat_minor": 4
}
